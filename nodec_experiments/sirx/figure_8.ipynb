{
 "cells": [
  {
   "cell_type": "markdown",
   "metadata": {},
   "source": [
    "# SIRX: Figure 8\n",
    "Control signal comparison of NODEC, RL and TCC over lattice.\n",
    "\n",
    "To run this script:\n",
    "1. Please make sure that the required data folder is available at the paths used by the script.\n",
    "You may generate the required data by running the python script\n",
    "```nodec_experiments/sirx/gen_parameters.py```.\n",
    "\n",
    "2. The plots use the training results.\n",
    "Please also make sure that a training proceedures for both RL and NODEC have produced results in the corresponding paths used in plot and table scripts.\n",
    "Running ```nodec_experiments/sirx/nodec_train.ipynb``` and ```nodec_experiments/sirx/nodec_train.ipynb```with default paths is expected to generate at the requiered location for the plots and table scripts in each folder.\n",
    "\n",
    "3. Sample evaluation is done across alla baseliens before running the plots that also require the following script to run:\n",
    "`nodec_experiments/sirx/eval_baselines.ipynb`\n",
    "\n",
    "4. Extra scripts on experiments that did not produce good results may not be provide for the sake of space and brevity.\n",
    "\n",
    "5. The scripts below:\n",
    " - ```nodec_experiments/sirx/sirx.py```\n",
    " - ```nodec_experiments/sirx/rl_utils.py```\n",
    " - ```nodec_experiments/sirx/sirx_utils.py```\n",
    "contain very important utilities for running training , evaluation and plotting scripts. Please make sure that they are available in the python path when running experiments.\n",
    "\n",
    "Reinforcement Learning requires some significant time to train.\n",
    "\n",
    "As neural network intialization is stochastic, please make sure that appropriate seeds are used or expect some variance to paper results.\n",
    "\n",
    "## Imports"
   ]
  },
  {
   "cell_type": "code",
   "execution_count": null,
   "metadata": {},
   "outputs": [],
   "source": [
    "#%load_ext autoreload\n",
    "#%autoreload 2"
   ]
  },
  {
   "cell_type": "code",
   "execution_count": null,
   "metadata": {},
   "outputs": [],
   "source": [
    "import os\n",
    "import sys\n",
    "sys.path.append(\"../../\") # append modules from parent dir\n",
    "sys.path.append(\"./sirx_utils.py\")\n",
    "import numpy as np\n",
    "import torch\n",
    "import pandas as pd\n",
    "\n",
    "import networkx as nx\n",
    "\n",
    "from sirx_utils import comparison, sirx_curves, stack_plot_grid, heats_for_steps\n",
    "\n",
    "from plotly import graph_objects as go\n",
    "from plotly import figure_factory as ff\n",
    "import plotly.express as px\n",
    "import random\n",
    "\n",
    "from tqdm.auto import tqdm\n",
    "\n",
    "import copy\n",
    "\n",
    "\n",
    "\n",
    "from nnc.controllers.neural_network.nnc_controllers import NNCDynamics\n",
    "from nnc.helpers.torch_utils.graphs import drivers_to_tensor"
   ]
  },
  {
   "cell_type": "code",
   "execution_count": null,
   "metadata": {},
   "outputs": [],
   "source": [
    "device = 'cpu'\n",
    "dtype = torch.float\n"
   ]
  },
  {
   "cell_type": "markdown",
   "metadata": {},
   "source": [
    "### Graph parameters"
   ]
  },
  {
   "cell_type": "code",
   "execution_count": null,
   "metadata": {},
   "outputs": [],
   "source": [
    "graph = 'lattice'\n",
    "parameters_folder = '../../../data/parameters/sirx/'\n",
    "results_folder = '../../../results/sirx/'+graph+'/'\n",
    "evaluation_results_folder = results_folder + 'eval/'\n",
    "\n",
    "graph_parameters_folder = parameters_folder  + 'lattice' + '/'\n",
    "\n",
    "adjacency_matrix = torch.load(graph_parameters_folder + 'adjacency.pt', map_location=device).to(dtype)\n",
    "n_nodes = adjacency_matrix.shape[-1]\n",
    "side_size = int(np.sqrt(n_nodes))"
   ]
  },
  {
   "cell_type": "markdown",
   "metadata": {},
   "source": [
    "### Dynamics Parameters"
   ]
  },
  {
   "cell_type": "code",
   "execution_count": null,
   "metadata": {},
   "outputs": [],
   "source": [
    "initial_infection_nodes = torch.load(graph_parameters_folder + 'initial_infection_nodes.pt')\n",
    "target_subgraph = torch.load(graph_parameters_folder + 'target_subgraph_nodes.pt')"
   ]
  },
  {
   "cell_type": "markdown",
   "metadata": {},
   "source": [
    "# Figure 8\n",
    "Plot of initial and target state"
   ]
  },
  {
   "cell_type": "code",
   "execution_count": null,
   "metadata": {},
   "outputs": [],
   "source": [
    "## Our initial-target scheme\n",
    "xshow = torch.zeros([n_nodes])\n",
    "xshow[initial_infection_nodes] = 1\n",
    "colorscale = px.colors.sequential.Plasma\n",
    "new_cl = [(0, colorscale[0]), (0.5, colorscale[0]), (0.5, colorscale[-1]), (1, colorscale[-1])]\n",
    "xshow = torch.zeros([n_nodes])\n",
    "xshow[target_subgraph] = -1\n",
    "xshow[initial_infection_nodes] = 1\n",
    "\n",
    "fig = px.imshow(xshow.view(32,32))\n",
    "\n",
    "fig = go.Figure(fig.data[0])\n",
    "fig.layout.coloraxis.colorscale = ['#f1a340','#ffffff', '#998ec3']\n",
    "fig.layout.width = 200\n",
    "fig.layout.height = 200\n",
    "fig.layout.margin = dict(t=0, b=0, r=0, l=0)\n",
    "\n",
    "fig.layout.coloraxis.showscale = False\n",
    "fig.layout.xaxis.visible = False\n",
    "fig.layout.yaxis.visible = False\n",
    "\n",
    "fig.data[0].showscale = False\n",
    "fig"
   ]
  },
  {
   "cell_type": "markdown",
   "metadata": {},
   "source": [
    "Plot of controls for different controllers. Clipping high control values from colorscaler"
   ]
  },
  {
   "cell_type": "code",
   "execution_count": null,
   "metadata": {},
   "outputs": [],
   "source": [
    "all_unn = np.load(evaluation_results_folder + \"nodec_control_signal.npy\")\n",
    "all_ucc = np.load(evaluation_results_folder + 'constant_control_signal.npy')\n",
    "all_urn = np.load(evaluation_results_folder + 'random_control_signal.npy')\n",
    "all_url = np.load(evaluation_results_folder + 'td3_control_signal.npy')\n",
    "\n",
    "#clip 0.005% of outliers for better color visualizaiton\n",
    "clipmax = np.quantile(np.concatenate([all_unn, all_ucc, all_url]), 0.995) #"
   ]
  },
  {
   "cell_type": "markdown",
   "metadata": {},
   "source": [
    "Plotting control signals for NODEC, RL, TCC"
   ]
  },
  {
   "cell_type": "code",
   "execution_count": null,
   "metadata": {},
   "outputs": [],
   "source": [
    "from sirx_utils import heats_for_steps\n",
    "steps = [300, 600, 1200, 1600, 2000, 3500]\n",
    "unn =  copy.deepcopy(all_unn)\n",
    "unn = np.clip(unn, 0, clipmax)\n",
    "ucc =  copy.deepcopy(all_ucc)\n",
    "ucc = np.clip(ucc, 0, clipmax)\n",
    "urn = copy.deepcopy(all_urn)\n",
    "urn = np.clip(urn, 0, clipmax)\n",
    "url = copy.deepcopy(all_url)\n",
    "url = np.clip(url, 0, clipmax)\n",
    "\n",
    "figs_rl = heats_for_steps('control_rl',url, px.colors.sequential.Viridis, steps, zmax=4.75, ztickvals=np.linspace(0, 4.75,6))\n",
    "figs_nn = heats_for_steps('control_nn',unn, px.colors.sequential.Viridis, steps, zmax=4.75, ztickvals=np.linspace(0, 4.75,6))\n",
    "figs_rn = heats_for_steps('control_rn',urn, px.colors.sequential.Viridis, steps, zmax=4.75, ztickvals=np.linspace(0, 4.75,6))\n",
    "figs_cc = heats_for_steps('control_cc',ucc, px.colors.sequential.Viridis, steps, zmax=4.75, ztickvals=np.linspace(0, 4.75,6))\n",
    "\n",
    "stack_fig = stack_plot_grid('u', [figs_nn, figs_rl, figs_cc], \n",
    "                            colorscale=px.colors.sequential.Viridis)\n",
    "stack_fig.update_layout(\n",
    "    width=700, \n",
    "    #height = 200\n",
    "    height = 200 + 200/3\n",
    ")\n",
    "#fig.write_image('latest_plots/controls.pdf')\n",
    "\n",
    "stack_fig\n"
   ]
  }
 ],
 "metadata": {
  "kernelspec": {
   "display_name": "Python 3",
   "language": "python",
   "name": "python3"
  },
  "language_info": {
   "codemirror_mode": {
    "name": "ipython",
    "version": 3
   },
   "file_extension": ".py",
   "mimetype": "text/x-python",
   "name": "python",
   "nbconvert_exporter": "python",
   "pygments_lexer": "ipython3",
   "version": "3.7.3"
  }
 },
 "nbformat": 4,
 "nbformat_minor": 4
}
