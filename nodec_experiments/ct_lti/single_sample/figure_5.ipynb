{
 "cells": [
  {
   "cell_type": "markdown",
   "metadata": {},
   "source": [
    "# CT-LTI: Figure 5\n",
    "Evaluation of control similarity between NODEC and OC via correlation of control signals per node and energy plots.\n",
    "\n",
    "\n",
    "Furthermore, please make sure that the required data folder is available at the paths used by the script.\n",
    "You may generate the required data by running the python script\n",
    "```nodec_experiments/ct_lti/gen_parameters.py```.\n",
    "\n",
    "Please also make sure that a trainingproceedure has produced results in the corresponding paths used below.\n",
    "Running ```nodec_experiments/ct_lti/single_sample/train.ipynb``` with default paths is expected to generate at the requiered location.\n",
    "\n",
    "As neural network intialization is stochastic, please make sure that appropriate seeds are used or expect some variance to paper results.\n",
    "\n",
    "## Imports"
   ]
  },
  {
   "cell_type": "code",
   "execution_count": null,
   "metadata": {},
   "outputs": [],
   "source": [
    "%load_ext autoreload\n",
    "%autoreload 2"
   ]
  },
  {
   "cell_type": "code",
   "execution_count": null,
   "metadata": {},
   "outputs": [],
   "source": [
    "import os\n",
    "os.sys.path.append('../../../')\n",
    "\n",
    "import torch\n",
    "from torchdiffeq import odeint\n",
    "\n",
    "import numpy as np\n",
    "import pandas as pd\n",
    "import networkx as nx\n",
    "\n",
    "import plotly\n",
    "from copy import deepcopy\n",
    "import scipy\n",
    "\n",
    "from plotly import graph_objects as go\n",
    "import plotly.express as px\n",
    "\n",
    "from tqdm.auto import tqdm\n",
    "from nnc.helpers.plot_helper import square_lattice_heatmap, trendplot\n",
    "from nnc.helpers.torch_utils.file_helpers import read_tensor_from_collection, \\\n",
    "    save_tensor_to_collection"
   ]
  },
  {
   "cell_type": "code",
   "execution_count": null,
   "metadata": {},
   "outputs": [],
   "source": [
    "from nnc.helpers.plot_helper import ColorRegistry, base_layout\n"
   ]
  },
  {
   "cell_type": "markdown",
   "metadata": {},
   "source": [
    "## Loading parameters and data"
   ]
  },
  {
   "cell_type": "code",
   "execution_count": null,
   "metadata": {},
   "outputs": [],
   "source": [
    "results_data_folder = '../../../../results/ct_lti/single_sample/'\n",
    "experiment_data_folder = '../../../../data/parameters/ct_lti/'\n",
    "graph='lattice'\n",
    "\n",
    "n_interactions = ['50', '500', '5000']\n",
    "collection_file = 'epochs.zip'\n",
    "\n",
    "evaluation_files =  dict(\n",
    "oc_50 = results_data_folder + 'oc_sample_ninter_50/',\n",
    "oc_500 = results_data_folder + 'oc_sample_ninter_500/',\n",
    "oc_5000 = results_data_folder + 'oc_sample_ninter_5000/',\n",
    "\n",
    "nodec_50 = results_data_folder + 'eval_nn_sample_ninter_50/',\n",
    "nodec_500 = results_data_folder + 'eval_nn_sample_ninter_500/',\n",
    "nodec_5000 = results_data_folder + 'eval_nn_sample_ninter_5000/',\n",
    ")\n",
    "\n",
    "all_files  = dict(\n",
    "    train_file = results_data_folder + 'nn_sample_train/',\n",
    ")\n",
    "all_files.update(evaluation_files)"
   ]
  },
  {
   "cell_type": "code",
   "execution_count": null,
   "metadata": {},
   "outputs": [],
   "source": [
    "graph='lattice'\n",
    "graph_folder = experiment_data_folder+graph+'/'\n",
    "device='cpu'\n",
    "target_states = torch.load(graph_folder+'target_states.pt').to(device)\n",
    "initial_states = torch.load(experiment_data_folder+'init_states.pt').to(device)\n",
    "\n",
    "current_sample_id = 24\n",
    "\n",
    "x0 = initial_states[current_sample_id].unsqueeze(0)\n",
    "xstar = target_states[current_sample_id].unsqueeze(0)\n",
    "T = 0.5\n"
   ]
  },
  {
   "cell_type": "markdown",
   "metadata": {},
   "source": [
    "## Fig: 5a\n",
    "Correlation scatter plot between control signals of NODEC and OC with fitter OLS."
   ]
  },
  {
   "cell_type": "code",
   "execution_count": null,
   "metadata": {},
   "outputs": [],
   "source": [
    "oc_controls = read_tensor_from_collection(all_files['oc_500'] + 'epochs.zip', 'all_controls/ep_0.pt')\n",
    "nnc_controls = read_tensor_from_collection(all_files['nodec_500']+ 'epochs.zip', 'all_controls/ep_0.pt')\n",
    "fig_ols = trendplot(x1=oc_controls[0, :, :].flatten().cpu().numpy(), x2=nnc_controls[0, :, :].flatten().cpu().numpy(),\n",
    "         ax1='OC', ax2='NODEC', render_mode='webgl'\n",
    "         )\n",
    "\n",
    "fig_ols.data[0].showlegend = False\n",
    "#fig_ols.data[0].name = 'Control Points'\n",
    "fig_ols.data[1].name = 'OLS '\n",
    "fig_ols.data[1].showlegend = True\n",
    "fig_ols.update_layout(            height = fig_ols.layout.height-fig_ols.layout.margin.t+10,\n",
    "                                  margin = dict(t=0),\n",
    "                                  legend=dict(\n",
    "                                        orientation=\"v\",\n",
    "                                  x=0,\n",
    "                                  y=1.1,                                \n",
    "                                  bgcolor=\"rgba(0,0,0,0)\",\n",
    "                                  bordercolor=\"Black\",\n",
    "                                  borderwidth=0\n",
    "                                )\n",
    "\n",
    "                                  )\n",
    "fig_ols.layout.annotations[0].x = 0.23\n",
    "fig_ols.layout.annotations[0].y = 0\n",
    "\n",
    "\n",
    "fig_ols.update_layout(width=400, height=300)\n",
    "fig_ols\n",
    "\n"
   ]
  },
  {
   "cell_type": "markdown",
   "metadata": {},
   "source": [
    "## Fig 5b\n",
    "Energy comparison between OC and NODEC trajectories over a single sample."
   ]
  },
  {
   "cell_type": "code",
   "execution_count": null,
   "metadata": {},
   "outputs": [],
   "source": [
    "oc_500_energies = read_tensor_from_collection(evaluation_files['oc_500'] + 'epochs.zip', 'all_energies/ep_0.pt')\n",
    "nn_500_energies = read_tensor_from_collection(evaluation_files['nodec_500'] + 'epochs.zip', 'all_energies/ep_0.pt')\n",
    "timesteps = torch.linspace(0, T, 500).numpy()\n",
    "\n",
    "\n",
    "nodec_500_energies_time = px.line(x=timesteps, y=nn_500_energies.flatten().cpu().numpy()).data[0]\n",
    "nodec_500_energies_time.name = 'NODEC'\n",
    "nodec_500_energies_time.line.color = ColorRegistry.nodec\n",
    "nodec_500_energies_time.showlegend = True \n",
    "nodec_500_energies_time.line.dash = 'dot'\n",
    "oc_500_energies_time = px.line(x=timesteps, y=oc_500_energies.flatten().cpu().numpy()).data[0]\n",
    "oc_500_energies_time.name = 'OC'\n",
    "oc_500_energies_time.line.color = ColorRegistry.oc\n",
    "oc_500_energies_time.showlegend = True \n",
    "oc_500_energies_time.line.dash = 'dot'\n",
    "\n",
    "energy_figure = go.Figure([nodec_500_energies_time, oc_500_energies_time])\n",
    "energy_figure.update_layout(base_layout)\n",
    "\n",
    "energy_figure.update_layout(width=145, height=137, margin = dict(t=0,b=0,l=0,r=0), \n",
    "                                  legend=dict(\n",
    "                                        orientation=\"h\",\n",
    "                                  font = dict(size=8),\n",
    "                                  x=0,\n",
    "                                  y=1.1,                                \n",
    "                                  bgcolor=\"rgba(0,0,0,0)\",\n",
    "                                  bordercolor=\"Black\",\n",
    "                                  borderwidth=0\n",
    "                                  )\n",
    "                                )\n",
    "\n",
    "energy_figure.layout.yaxis.title = 'Total Energy'\n",
    "energy_figure.layout.xaxis.title = 'Time'\n",
    "energy_figure.update_layout(width=400, height=300)\n",
    "\n",
    "energy_figure"
   ]
  }
 ],
 "metadata": {
  "kernelspec": {
   "display_name": "Python 3",
   "language": "python",
   "name": "python3"
  },
  "language_info": {
   "codemirror_mode": {
    "name": "ipython",
    "version": 3
   },
   "file_extension": ".py",
   "mimetype": "text/x-python",
   "name": "python",
   "nbconvert_exporter": "python",
   "pygments_lexer": "ipython3",
   "version": "3.7.3"
  }
 },
 "nbformat": 4,
 "nbformat_minor": 4
}
