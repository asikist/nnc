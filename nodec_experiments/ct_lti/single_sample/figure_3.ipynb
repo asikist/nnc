{
 "cells": [
  {
   "cell_type": "markdown",
   "metadata": {},
   "source": [
    "# CT-LTI: Figure 3\n",
    "Figure for qualitative evaluation of reached states between NODEC and OC.\n",
    "\n",
    "Furthermore, please make sure that the required data folder is available at the paths used by the script.\n",
    "You may generate the required data by running the python script\n",
    "```nodec_experiments/ct_lti/gen_parameters.py```.\n",
    "\n",
    "Please also make sure that a trainingproceedure has produced results in the corresponding paths used below.\n",
    "Running ```nodec_experiments/ct_lti/single_sample/train.ipynb``` with default paths is expected to generate at the requiered location.\n",
    "\n",
    "As neural network intialization is stochastic, please make sure that appropriate seeds are used or expect some variance to paper results."
   ]
  },
  {
   "cell_type": "code",
   "execution_count": null,
   "metadata": {},
   "outputs": [],
   "source": [
    "# %load_ext autoreload\n",
    "# %autoreload 2"
   ]
  },
  {
   "cell_type": "code",
   "execution_count": null,
   "metadata": {},
   "outputs": [],
   "source": [
    "import os\n",
    "os.sys.path.append('../../../')\n",
    "    \n",
    "import torch\n",
    "from torchdiffeq import odeint\n",
    "\n",
    "import numpy as np\n",
    "import pandas as pd\n",
    "import networkx as nx\n",
    "\n",
    "import plotly\n",
    "from copy import deepcopy\n",
    "import scipy\n",
    "\n",
    "from plotly import graph_objects as go\n",
    "import plotly.express as px\n",
    "\n",
    "from tqdm.auto import tqdm\n",
    "from nnc.helpers.plot_helper import square_lattice_heatmap, trendplot\n",
    "from nnc.helpers.torch_utils.file_helpers import read_tensor_from_collection, \\\n",
    "    save_tensor_to_collection\n",
    "\n",
    "from nnc.helpers.plot_helper import ColorRegistry, base_layout\n",
    "from plotly.subplots import make_subplots"
   ]
  },
  {
   "cell_type": "markdown",
   "metadata": {},
   "source": [
    "## Load required Data\n",
    "This script requires ```train.ipynb``` to have run first or to download the precomputed results in the ```data``` folder."
   ]
  },
  {
   "cell_type": "code",
   "execution_count": null,
   "metadata": {},
   "outputs": [],
   "source": [
    "# Load the results\n",
    "results_data_folder = '../../../../results/ct_lti/single_sample/'\n",
    "experiment_data_folder = '../../../../data/parameters/ct_lti/'\n",
    "graph='lattice'\n",
    "\n",
    "n_interactions = ['50', '500', '5000']\n",
    "collection_file = 'epochs.zip'\n",
    "\n",
    "evaluation_files =  dict(\n",
    "oc_50 = results_data_folder + 'oc_sample_ninter_50/',\n",
    "oc_500 = results_data_folder + 'oc_sample_ninter_500/',\n",
    "oc_5000 = results_data_folder + 'oc_sample_ninter_5000/',\n",
    "\n",
    "nodec_50 = results_data_folder + 'eval_nn_sample_ninter_50/',\n",
    "nodec_500 = results_data_folder + 'eval_nn_sample_ninter_500/',\n",
    "nodec_5000 = results_data_folder + 'eval_nn_sample_ninter_5000/',\n",
    ")\n",
    "\n",
    "all_files  = dict(\n",
    "    train_file = results_data_folder + 'nn_sample_train/',\n",
    ")\n",
    "all_files.update(evaluation_files)"
   ]
  },
  {
   "cell_type": "code",
   "execution_count": null,
   "metadata": {},
   "outputs": [],
   "source": [
    "# Load graph and initial-target states\n",
    "graph='lattice'\n",
    "graph_folder = experiment_data_folder+graph+'/'\n",
    "device='cpu'\n",
    "target_states = torch.load(graph_folder+'target_states.pt').to(device)\n",
    "initial_states = torch.load(experiment_data_folder+'init_states.pt').to(device)\n",
    "\n",
    "current_sample_id = 24\n",
    "\n",
    "x0 = initial_states[current_sample_id].unsqueeze(0)\n",
    "xstar = target_states[current_sample_id].unsqueeze(0)\n",
    "T = 0.5\n",
    "\n"
   ]
  },
  {
   "cell_type": "markdown",
   "metadata": {},
   "source": [
    "## Load initial and target states"
   ]
  },
  {
   "cell_type": "code",
   "execution_count": null,
   "metadata": {},
   "outputs": [],
   "source": [
    "\n",
    "fig_x0 = square_lattice_heatmap(x0, color_scale=\n",
    "        plotly.colors.sequential.Agsunset)\n",
    "\n",
    "fig_x0.layout.paper_bgcolor = 'rgba(0,0,0,0)'\n",
    "fig_xstar = square_lattice_heatmap(xstar, color_scale=\n",
    "        plotly.colors.sequential.Agsunset)\n",
    "fig_xstar.layout.paper_bgcolor = 'rgba(0,0,0,0)'\n"
   ]
  },
  {
   "cell_type": "markdown",
   "metadata": {},
   "source": [
    "## Load reached states for all baselines and different interactions"
   ]
  },
  {
   "cell_type": "code",
   "execution_count": null,
   "metadata": {},
   "outputs": [],
   "source": [
    "all_figs = dict()\n",
    "for file, path in all_files.items():\n",
    "    metadata = pd.read_csv(path+'epoch_metadata.csv')\n",
    "    epoch = metadata['epoch'].iloc[-1]\n",
    "    reached_state = read_tensor_from_collection(path + 'epochs', 'reached_state/ep_'+str(epoch)+'.pt')\n",
    "    fig = square_lattice_heatmap(reached_state, color_scale=\n",
    "        plotly.colors.sequential.Agsunset)\n",
    "    all_figs[file] = fig\n",
    "    \n",
    "    fig.layout.paper_bgcolor = 'rgba(0,0,0,0)'\n",
    "\n",
    "    "
   ]
  },
  {
   "cell_type": "code",
   "execution_count": null,
   "metadata": {},
   "outputs": [],
   "source": [
    "## Plot the figure"
   ]
  },
  {
   "cell_type": "code",
   "execution_count": null,
   "metadata": {},
   "outputs": [],
   "source": []
  },
  {
   "cell_type": "code",
   "execution_count": null,
   "metadata": {},
   "outputs": [],
   "source": [
    "fig = make_subplots(2,4, \n",
    "                    row_heights=2*[80], \n",
    "                    column_width = 4*[80],\n",
    "                    horizontal_spacing = 0.05,\n",
    "                    vertical_spacing=0.1,\n",
    "                    subplot_titles=['$x_0$', 'NODEC 0.01',  'NODEC 0.001', 'NODEC 0.0001',\n",
    "                                   \n",
    "                                   '$x^*$', 'OC 0.01',  'OC 0.001', 'OC 0.0001',\n",
    "                                   ]\n",
    "                   )\n"
   ]
  },
  {
   "cell_type": "code",
   "execution_count": null,
   "metadata": {},
   "outputs": [],
   "source": [
    "\n",
    "fig.add_trace(fig_x0.data[0], 1, 1)\n",
    "\n",
    "fig.add_trace(fig_xstar.data[0], 2, 1)\n",
    "\n",
    "fig.add_trace(all_figs['nodec_5000'].data[0], 1, 2)\n",
    "\n",
    "\n",
    "fig.add_trace(all_figs['nodec_500'].data[0], 1, 3)\n",
    "\n",
    "\n",
    "fig.add_trace(all_figs['nodec_50'].data[0], 1, 4)\n",
    "\n",
    "fig.add_trace(all_figs['oc_5000'].data[0], 2, 2)\n",
    "\n",
    "\n",
    "fig.add_trace(all_figs['oc_500'].data[0], 2, 3)\n",
    "\n",
    "\n",
    "fig.add_trace(all_figs['oc_50'].data[0], 2, 4)\n",
    "\n",
    "\n",
    "fig.update_xaxes(visible = False)\n",
    "fig.update_yaxes(visible = False)\n",
    "fig.layout.margin = dict(t=30,b=30,l=30,r=30)\n",
    "fig.update_traces(showscale=False)\n",
    "fig"
   ]
  }
 ],
 "metadata": {
  "kernelspec": {
   "display_name": "Python 3",
   "language": "python",
   "name": "python3"
  },
  "language_info": {
   "codemirror_mode": {
    "name": "ipython",
    "version": 3
   },
   "file_extension": ".py",
   "mimetype": "text/x-python",
   "name": "python",
   "nbconvert_exporter": "python",
   "pygments_lexer": "ipython3",
   "version": "3.7.3"
  }
 },
 "nbformat": 4,
 "nbformat_minor": 4
}
